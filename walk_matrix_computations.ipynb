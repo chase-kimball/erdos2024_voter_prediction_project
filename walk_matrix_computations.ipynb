{
 "cells": [
  {
   "cell_type": "markdown",
   "id": "9784e4cd",
   "metadata": {},
   "source": [
    "This notebook computes the walking times between pairs of voting locations. While this notebook specifically does Los Angeles County, one can similarly do any other region by replacing certain values (marked with !! comments) with desired ones. "
   ]
  },
  {
   "cell_type": "code",
   "execution_count": null,
   "id": "3e7c15b1",
   "metadata": {},
   "outputs": [],
   "source": [
    "import numpy as np\n",
    "import geopandas as gpd\n",
    "from shapely.geometry import Point, LineString, Polygon\n",
    "from shapely.geometry import MultiPoint\n",
    "import networkx as nx\n",
    "import osmnx as ox"
   ]
  },
  {
   "cell_type": "markdown",
   "id": "3b4249a9",
   "metadata": {},
   "source": [
    "Example: Los Angeles County"
   ]
  },
  {
   "cell_type": "markdown",
   "id": "62608587",
   "metadata": {},
   "source": [
    "load data"
   ]
  },
  {
   "cell_type": "code",
   "execution_count": null,
   "id": "bb30c0b0",
   "metadata": {},
   "outputs": [],
   "source": [
    "#loading street network\n",
    "place = 'Los Angeles County' #!! replace with desired city here\n",
    "G = ox.graph_from_place(place,network_type='walk', buffer_dist = 5000, simplify=False)"
   ]
  },
  {
   "cell_type": "code",
   "execution_count": null,
   "id": "026af42a",
   "metadata": {},
   "outputs": [],
   "source": [
    "#loading polling-site location\n",
    "polls = gpd.read_file('Los Angeles/lac_NoCatalina_polls.geojson') #!! specify the path/directory of polls dataset\n",
    "nodes=ox.distance.nearest_nodes(G,polls.longitude,polls.latitude)\n",
    "walk=np.full((len(lac_polls),len(lac_polls)),0)"
   ]
  },
  {
   "cell_type": "markdown",
   "id": "92abaa5f",
   "metadata": {},
   "source": [
    "multiprocess to speed up computation"
   ]
  },
  {
   "cell_type": "code",
   "execution_count": null,
   "id": "dafd17cb",
   "metadata": {},
   "outputs": [],
   "source": [
    "#get pairs to prepare for multiprocess\n",
    "pairs_list = []\n",
    "for i in range(len(nodes)):\n",
    "    for j in range(i+1,len(nodes)):\n",
    "        pairs_list.append((i,j))"
   ]
  },
  {
   "cell_type": "code",
   "execution_count": null,
   "id": "13602c9c",
   "metadata": {},
   "outputs": [],
   "source": [
    "#define function needed for mp\n",
    "def walk_dist_compute(pair):\n",
    "    return nx.shortest_path_length(G,nodes[pair[0]],nodes[pair[1]],weight='length')/1.42"
   ]
  },
  {
   "cell_type": "code",
   "execution_count": null,
   "id": "d8b0281f",
   "metadata": {},
   "outputs": [],
   "source": [
    "import multiprocess as mp\n",
    "\n",
    "pool = mp.Pool(60)\n",
    "distances_list = pool.map(walk_dist_compute, pairs_list)\n",
    "pool.close()"
   ]
  },
  {
   "cell_type": "code",
   "execution_count": null,
   "id": "44f27d2e",
   "metadata": {},
   "outputs": [],
   "source": [
    "#reassembling matrix\n",
    "for i in range(len(pairs_list)):\n",
    "    walk[pairs_list[i][0],pairs_list[i][1]]=distances_list[i]\n",
    "    walk[pairs_list[i][1],pairs_list[i][0]]=distances_list[i]"
   ]
  },
  {
   "cell_type": "code",
   "execution_count": null,
   "id": "e68a16bc",
   "metadata": {},
   "outputs": [],
   "source": [
    "np.save('lac_walk.npy',walk) #name file as desired"
   ]
  }
 ],
 "metadata": {
  "kernelspec": {
   "display_name": "Python 3 (ipykernel)",
   "language": "python",
   "name": "python3"
  },
  "language_info": {
   "codemirror_mode": {
    "name": "ipython",
    "version": 3
   },
   "file_extension": ".py",
   "mimetype": "text/x-python",
   "name": "python",
   "nbconvert_exporter": "python",
   "pygments_lexer": "ipython3",
   "version": "3.7.13"
  }
 },
 "nbformat": 4,
 "nbformat_minor": 5
}
