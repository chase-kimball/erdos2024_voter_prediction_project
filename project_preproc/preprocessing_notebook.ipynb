{
 "cells": [
  {
   "cell_type": "code",
   "execution_count": 47,
   "id": "0f65dcda-0453-41da-9bc7-a6ad3db37bcc",
   "metadata": {},
   "outputs": [],
   "source": [
    "import numpy as np\n",
    "import pandas as pd\n",
    "from shapely import centroid\n",
    "import os\n",
    "import shutil"
   ]
  },
  {
   "cell_type": "markdown",
   "id": "ec6841d3-c3bc-43b6-a7c5-1f7e7a46fca3",
   "metadata": {},
   "source": [
    "#  {city}_death_simplices_by_death_in_dim_1.npy data"
   ]
  },
  {
   "cell_type": "markdown",
   "id": "49623ae7-7443-466c-8331-b321429eb39d",
   "metadata": {},
   "source": [
    "This is the basic data for the paper result: Triangles corresponding to the resource holes, given by lon/lat pairs for each vertex,\n",
    "and then the death filtration value, zscore of that value, and the ratio of the dath to birth filtration value. The triangles are stored as Shapely Polygon objects. Below extracts the vertex coords, the centroid coords, and stores everything in a data frame"
   ]
  },
  {
   "cell_type": "markdown",
   "id": "c0215536-160f-429e-ab10-66d1d2f57068",
   "metadata": {},
   "source": [
    "## Convert death simplex data to Pandas dataframes"
   ]
  },
  {
   "cell_type": "code",
   "execution_count": 48,
   "id": "c3cedade-4dcc-40f8-8fb9-a77a20c36236",
   "metadata": {},
   "outputs": [],
   "source": [
    "def convert_simplicies_to_df(data):\n",
    "\n",
    "    keys = ['lon1','lat1','lon2','lat2','lon3','lat3','lon_center','lat_center',\n",
    "            'death_filtration_value','death_filtration_zscore','death_birth_ratio']\n",
    "    \n",
    "    pdict = dict(zip(keys,[[] for key in keys]))\n",
    "    \n",
    "    for d in data:\n",
    "        coords = d[0].__geo_interface__['coordinates'][0]\n",
    "\n",
    "        #get coordinates of centroid, probably useful\n",
    "        lonc, latc = centroid(d[0]).__geo_interface__['coordinates']\n",
    "\n",
    "        # make sure all the polygons are triangles and the last coordinate pair is redundant and we can throw it away\n",
    "        assert coords[-1] == coords[0]\n",
    "        assert len(coords) == 4\n",
    "    \n",
    "        lon1, lat1= coords[0]\n",
    "        lon2, lat2 = coords[1]\n",
    "        lon3, lat3 = coords[2]\n",
    "\n",
    "        # get death filtration values, zscores, and death/birth ratio\n",
    "        dfv, dfz, dbr = d[1:]\n",
    "\n",
    "        row = [lon1, lat1, lon2, lat2, lon3, lat3, lonc, latc, dfv, dfz, dbr]\n",
    "        for ii, key in enumerate(keys):\n",
    "            pdict[key].append(row[ii])\n",
    "\n",
    "    return pd.DataFrame(pdict)\n",
    "\n",
    "        \n",
    "\n",
    "\n",
    "        \n"
   ]
  },
  {
   "cell_type": "code",
   "execution_count": 49,
   "id": "c427f95a-bfb1-4585-b551-666691894c8f",
   "metadata": {},
   "outputs": [
    {
     "name": "stdout",
     "output_type": "stream",
     "text": [
      "slc Folder already exists. Continuing\n",
      "chc Folder already exists. Continuing\n",
      "atl Folder already exists. Continuing\n",
      "jax Folder already exists. Continuing\n",
      "nyc Folder already exists. Continuing\n"
     ]
    }
   ],
   "source": [
    "paths = ['../Salt Lake City/slc_death_simplices_by_death_in_dim_1.npy',\n",
    "         '../Chicago/chc_death_simplices_by_death_in_dim_1.npy',\n",
    "         '../Atlanta/atl_death_simplices_by_death_in_dim_1.npy',\n",
    "         '../Jacksonville/jax_death_simplices_by_death_in_dim_1.npy',\n",
    "         '../NYC/nyc_death_simplices_by_death_in_dim_1.npy'\n",
    "        ]\n",
    "for path in paths:\n",
    "    folder_name = path.split('/')[2].split('_')[0]\n",
    "    file_name = '{}.csv'.format(path.split('/')[2].split('.')[0])\n",
    "\n",
    "    try: os.mkdir('../project_data/{}'.format(folder_name))\n",
    "    except FileExistsError: print('{} Folder already exists. Continuing'. format(folder_name))\n",
    "    shutil.copy(path, '../project_data/{}'.format(folder_name))\n",
    "    data = np.load(path, allow_pickle=True)\n",
    "\n",
    "    df = convert_simplicies_to_df(data)\n",
    "\n",
    "    df.to_csv('../project_data/{}/{}'.format(folder_name,file_name))"
   ]
  },
  {
   "cell_type": "markdown",
   "id": "09ff7792-d1fa-455e-a990-eaaef140d01a",
   "metadata": {},
   "source": [
    "# PRESIDENT_precinct_general.csv\n"
   ]
  },
  {
   "cell_type": "markdown",
   "id": "d23b8e4c-6be3-4fba-8f66-1ddaec5113db",
   "metadata": {},
   "source": [
    "This is the raw # of votes by precinct broken down by party AND voting method (absentee, non-absentee, etc.)\n",
    "A few things to note:\n",
    "- Does NOT include total registered voters by precinct\n",
    "- However, that data can be found elsewhere. For instance, Chicago gives these numbers by precinct [here](https://chicagoelections.gov/elections/results) (however, not by voting method). \n",
    "- Does NOT include demographic data\n",
    "- Does NOT include spatial data, so precincts need to be looked up elsewhere to get their location beyond just what county they're in\n",
    "- The precinct conventions are different for different cities, counties, etc as illustrated below\n",
    "- There is no national database of precinct boundaries. But they do seem to be getable city-by-city. For example, the [2012-2022 Chicago precinct boundaries](https://data.cityofchicago.org/Facilities-Geographic-Boundaries/Boundaries-Ward-Precincts-2012-2022-/uvpq-qeeq) are stored as sets of lat/lon pairs for vertices. I think packages like Shapely should allow us to easily check which ones intersect with triangles in the data above\n",
    "- I've put the Chicago coordinates in the corresponding data folder [here](../project_data/chc/ChicagoPrecincts2012_2022.csv)\n",
    "  "
   ]
  },
  {
   "cell_type": "code",
   "execution_count": 50,
   "id": "b5e2e6da-4085-4309-b711-3ea1d597429a",
   "metadata": {},
   "outputs": [
    {
     "name": "stderr",
     "output_type": "stream",
     "text": [
      "/tmp/ipykernel_79677/3074999192.py:1: DtypeWarning: Columns (0) have mixed types. Specify dtype option on import or set low_memory=False.\n",
      "  data = pd.read_csv('../project_data/PRESIDENT_precinct_general.csv')\n"
     ]
    }
   ],
   "source": [
    "data = pd.read_csv('../project_data/PRESIDENT_precinct_general.csv')"
   ]
  },
  {
   "cell_type": "markdown",
   "id": "c16e1877-2737-4fd5-8269-d97f48d4ee5d",
   "metadata": {},
   "source": [
    "## Selecting, e.g. Chicago precincts"
   ]
  },
  {
   "cell_type": "markdown",
   "id": "05a1bd7f-0012-4afe-ae4e-056e1978c64b",
   "metadata": {},
   "source": [
    "Chicago falls under the Cook County jurisdiction. There are multiple Cook counties, and the one in Illinois includes more than just Chicago"
   ]
  },
  {
   "cell_type": "code",
   "execution_count": 56,
   "id": "1351c152-d09e-4077-a782-4d144ac836a8",
   "metadata": {},
   "outputs": [],
   "source": [
    "cook_data = data[(data.jurisdiction_name == 'COOK') & (data.state == 'ILLINOIS')] # There are multiple Cook counties, and the one in Illinois includes more than just Chicago"
   ]
  },
  {
   "cell_type": "code",
   "execution_count": 57,
   "id": "f3e821b7-4505-459b-a735-1cafd8d9f250",
   "metadata": {},
   "outputs": [
    {
     "data": {
      "text/plain": [
       "array(['7000001.0', '7000002.0', '7000003.0', ..., 'WARD 50 PRECINCT 38',\n",
       "       'WARD 50 PRECINCT 39', 'WARD 50 PRECINCT 40'], dtype=object)"
      ]
     },
     "execution_count": 57,
     "metadata": {},
     "output_type": "execute_result"
    }
   ],
   "source": [
    "np.unique(cook_data.precinct)"
   ]
  },
  {
   "cell_type": "markdown",
   "id": "212c5c63-2681-4335-a3f9-598cb13f0c00",
   "metadata": {},
   "source": [
    "Even in Cook County, precincts have different naming conventions.\n",
    "\n",
    "Found [map of precincts here](https://data.cityofchicago.org/Facilities-Geographic-Boundaries/Boundaries-Ward-Precincts-2012-2022-/uvpq-qeeq).\n",
    "\n",
    "All Chicago precincts are identified by a Ward # and a Precinct # that's not unique across Wards.\n",
    "Selecting for things that look like that gives 2069 precincts, which is consistent with googling it for the map\n",
    "covering 2012-2022. **Note:** The [precinct map for Chicago was redrawn](https://app.chicagoelections.com/Documents/general/Chicago%20Board%20of%20Elections%20Releases%20New%20Ward%20and%20Precinct%20Maps.pdf) ahead of the 2022 General Election, reducing the\n",
    "number of precincts. This is something we're going to have to be careful with.\n",
    "\n"
   ]
  },
  {
   "cell_type": "code",
   "execution_count": 55,
   "id": "ea9c9677-b32b-4b64-83ee-5c7062d328ce",
   "metadata": {},
   "outputs": [
    {
     "name": "stdout",
     "output_type": "stream",
     "text": [
      "2069\n"
     ]
    }
   ],
   "source": [
    "chicago_precincts = []\n",
    "for ii, precinct in enumerate(np.unique(x.precinct)):\n",
    "    if 'WARD' in precinct:\n",
    "        chicago_precincts.append(precinct)\n",
    "\n",
    "chicago_data = cook_data[cook_data.precinct.isin(chicago_precincts)]\n",
    "print(len(np.unique(chicago_data.precinct)))"
   ]
  },
  {
   "cell_type": "code",
   "execution_count": null,
   "id": "5f85cdb1-3b70-4a68-a0fb-3057f4cdabd7",
   "metadata": {},
   "outputs": [],
   "source": []
  }
 ],
 "metadata": {
  "kernelspec": {
   "display_name": "Python 3 (ipykernel)",
   "language": "python",
   "name": "python3"
  },
  "language_info": {
   "codemirror_mode": {
    "name": "ipython",
    "version": 3
   },
   "file_extension": ".py",
   "mimetype": "text/x-python",
   "name": "python",
   "nbconvert_exporter": "python",
   "pygments_lexer": "ipython3",
   "version": "3.12.5"
  }
 },
 "nbformat": 4,
 "nbformat_minor": 5
}
