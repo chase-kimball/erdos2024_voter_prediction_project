{
 "cells": [
  {
   "cell_type": "code",
   "execution_count": 16,
   "id": "e827842e-3996-4cbb-bee4-e1650fb8d973",
   "metadata": {},
   "outputs": [],
   "source": [
    "import googlemaps\n",
    "import pandas as pd\n",
    "import geopandas as gpd\n",
    "import numpy as np"
   ]
  },
  {
   "cell_type": "code",
   "execution_count": 6,
   "id": "5f1124fa-9fef-4118-a296-50282e29661f",
   "metadata": {},
   "outputs": [],
   "source": [
    "polls = pd.read_csv('../project_data/chc/Polling_Places_IL_2016.csv')"
   ]
  },
  {
   "cell_type": "code",
   "execution_count": 29,
   "id": "9de1688d-0092-4c18-97bc-da68001d6308",
   "metadata": {},
   "outputs": [
    {
     "name": "stderr",
     "output_type": "stream",
     "text": [
      "/tmp/ipykernel_29773/1674873895.py:1: FutureWarning: Downcasting object dtype arrays on .fillna, .ffill, .bfill is deprecated and will change in a future version. Call result.infer_objects(copy=False) instead. To opt-in to the future behavior, set `pd.set_option('future.no_silent_downcasting', True)`\n",
      "  polls =  polls[polls.Jurisdiction =='City of Chicago'].fillna(-1)\n"
     ]
    }
   ],
   "source": [
    "polls =  polls[polls.Jurisdiction =='City of Chicago'].fillna(-1)"
   ]
  },
  {
   "cell_type": "code",
   "execution_count": 11,
   "id": "7996e851-74e7-41f1-b451-cbc628998955",
   "metadata": {},
   "outputs": [],
   "source": [
    "with open('../google_maps_api','r') as f:\n",
    "    my_key = f.read().strip()\n",
    "gmaps = googlemaps.Client(key=my_key)"
   ]
  },
  {
   "cell_type": "code",
   "execution_count": 32,
   "id": "e4344cec-577a-4711-8df1-65a9f9c48843",
   "metadata": {},
   "outputs": [],
   "source": [
    "lon = []\n",
    "lat = []\n",
    "for ii, row in polls.iterrows():\n",
    "    if row['Address Line 1'] == -1:\n",
    "        lon.append(-999)\n",
    "        lat.append(-999)\n",
    "        continue\n",
    "        \n",
    "        \n",
    "    address = row['Address Line 1'] + ', Chicago, IL'\n",
    "    geocode_result = gmaps.geocode(address)\n",
    "    lon.append(geocode_result[0]['geometry']['location']['lng'])\n",
    "    lat.append(geocode_result[0]['geometry']['location']['lat'])"
   ]
  },
  {
   "cell_type": "code",
   "execution_count": 33,
   "id": "abff0d94-b7d7-406b-a2b5-f53d2100d96c",
   "metadata": {},
   "outputs": [],
   "source": [
    "polls['lon'] = lon\n",
    "polls['lat'] = lat\n"
   ]
  },
  {
   "cell_type": "code",
   "execution_count": 36,
   "id": "dd5143d6-ad5a-40af-abee-c7413335d102",
   "metadata": {},
   "outputs": [],
   "source": [
    "polls.to_csv('../project_data/chc/Polling_Places_Chicago_2016.csv')"
   ]
  },
  {
   "cell_type": "code",
   "execution_count": null,
   "id": "525d0f0b-5e68-47b9-808f-396d73a32441",
   "metadata": {},
   "outputs": [],
   "source": []
  }
 ],
 "metadata": {
  "kernelspec": {
   "display_name": "Python 3 (ipykernel)",
   "language": "python",
   "name": "python3"
  },
  "language_info": {
   "codemirror_mode": {
    "name": "ipython",
    "version": 3
   },
   "file_extension": ".py",
   "mimetype": "text/x-python",
   "name": "python",
   "nbconvert_exporter": "python",
   "pygments_lexer": "ipython3",
   "version": "3.12.5"
  }
 },
 "nbformat": 4,
 "nbformat_minor": 5
}
